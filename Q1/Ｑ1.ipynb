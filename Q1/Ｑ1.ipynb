{
 "cells": [
  {
   "cell_type": "markdown",
   "metadata": {},
   "source": [
    "### 手機共通屬性: \n",
    "price, camera_count, screen_size 特殊功能: special_freature()。"
   ]
  },
  {
   "cell_type": "code",
   "execution_count": 2,
   "metadata": {},
   "outputs": [],
   "source": [
    "import abc\n",
    "\n",
    "class Phone(metaclass = abc.ABCMeta):\n",
    "\n",
    "    def __init__(self, price, camera_count, screen_size):\n",
    "        self.price = price\n",
    "        self.camera_count = camera_count\n",
    "        self.screen_size = screen_size\n",
    "\n",
    "    @abc.abstractmethod\n",
    "    def special_feature(self):\n",
    "        pass"
   ]
  },
  {
   "cell_type": "markdown",
   "metadata": {},
   "source": [
    "### 手機一：google phone: \n",
    "price=10, camera_count=3, screen_size=5, special_feature 輸入一個 int list, 回傳偶數且大於 10 的元素，並由大至小進行排序。\n",
    "例如: 輸入 [3, 43, 62, 15, 18, 22] 回傳 [62, 22, 18]。"
   ]
  },
  {
   "cell_type": "code",
   "execution_count": 3,
   "metadata": {},
   "outputs": [
    {
     "data": {
      "text/plain": [
       "[62, 22, 18]"
      ]
     },
     "execution_count": 3,
     "metadata": {},
     "output_type": "execute_result"
    }
   ],
   "source": [
    "class google_phone(Phone):\n",
    "    \n",
    "    def __init__(self):\n",
    "        super().__init__(price=10, camera_count=3, screen_size=5)\n",
    "\n",
    "    def special_feature(self, listattr):\n",
    "        sorted_listattr = sorted(listattr, reverse=True)\n",
    "        i = 0\n",
    "        final_list = []\n",
    "        for num in sorted_listattr: \n",
    "            if num > 10 and num%2==0:\n",
    "                final_list.append(num)\n",
    "        return final_list\n",
    "    \n",
    "\"\"\"\n",
    "Testing\n",
    "\"\"\"\n",
    "GooglePhone1 = google_phone()\n",
    "GooglePhone1.special_feature([3, 43, 62, 15, 18, 22])"
   ]
  },
  {
   "cell_type": "markdown",
   "metadata": {},
   "source": [
    "### 手機二：taiwan phone:\n",
    "price=20, camera_count=1, screen_size=3, special_freature: 輸入一個數字自動計算Fibonacci斐波那契數列的運算結果，並取最後二位(十位為 x、個位為 y)數字進行 p x 取 y (排序組合) 計算。"
   ]
  },
  {
   "cell_type": "code",
   "execution_count": 4,
   "metadata": {},
   "outputs": [
    {
     "data": {
      "text/plain": [
       "5040"
      ]
     },
     "execution_count": 4,
     "metadata": {},
     "output_type": "execute_result"
    }
   ],
   "source": [
    "from math import factorial\n",
    "\n",
    "class taiwan_phone(Phone):\n",
    "    \n",
    "    def __init__(self):\n",
    "        super().__init__(price=20, camera_count=1, screen_size=3)\n",
    "    \n",
    "    def fibomethod(self, fibonum):\n",
    "        first = 0\n",
    "        second = 1\n",
    "        for i in range(fibonum):\n",
    "            first += second\n",
    "            first, second = second, first\n",
    "        return first\n",
    "    \n",
    "    def special_feature(self, num):\n",
    "        x = self.fibomethod(num)%100//10\n",
    "        y = self.fibomethod(num)%10\n",
    "        if x < y:\n",
    "            return \"Warning: invalid value for x < y!\"\n",
    "        else:\n",
    "            return factorial(x)//factorial(x-y)\n",
    "            \n",
    "\"\"\"\n",
    "Testing\n",
    "\"\"\"\n",
    "T = taiwan_phone()\n",
    "T.special_feature(14)"
   ]
  }
 ],
 "metadata": {
  "kernelspec": {
   "display_name": "Python 3",
   "language": "python",
   "name": "python3"
  },
  "language_info": {
   "codemirror_mode": {
    "name": "ipython",
    "version": 3
   },
   "file_extension": ".py",
   "mimetype": "text/x-python",
   "name": "python",
   "nbconvert_exporter": "python",
   "pygments_lexer": "ipython3",
   "version": "3.7.3"
  }
 },
 "nbformat": 4,
 "nbformat_minor": 2
}
